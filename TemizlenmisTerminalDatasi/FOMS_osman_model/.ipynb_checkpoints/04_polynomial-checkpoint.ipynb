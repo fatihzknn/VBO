{
 "cells": [
  {
   "cell_type": "code",
   "execution_count": 1,
   "id": "23e5d664-c874-4320-9f70-fa30b75ccb5d",
   "metadata": {},
   "outputs": [],
   "source": [
    "import pandas as pd\n",
    "from matplotlib import pyplot as plt\n",
    "import numpy as np"
   ]
  },
  {
   "cell_type": "code",
   "execution_count": 2,
   "id": "e260a1c7-ac1b-416f-87aa-be5848ad55e8",
   "metadata": {},
   "outputs": [],
   "source": [
    "from sklearn.model_selection import train_test_split\n",
    "from sklearn.metrics import r2_score, mean_squared_error"
   ]
  },
  {
   "cell_type": "code",
   "execution_count": 3,
   "id": "fe7441ae-5795-4c5d-961a-b963f64ad8bb",
   "metadata": {},
   "outputs": [],
   "source": [
    "from sklearn.linear_model import Lasso, Ridge, ElasticNet\n",
    "from sklearn.preprocessing import StandardScaler\n",
    "from sklearn.svm import SVR\n",
    "from sklearn.ensemble import RandomForestRegressor\n",
    "from sklearn.tree import DecisionTreeRegressor, plot_tree"
   ]
  },
  {
   "cell_type": "code",
   "execution_count": 4,
   "id": "65feebc0-e58d-43de-aeb1-29930c2709ce",
   "metadata": {},
   "outputs": [],
   "source": [
    "from sklearn.pipeline import make_pipeline, Pipeline\n",
    "from sklearn.preprocessing import StandardScaler, PolynomialFeatures"
   ]
  },
  {
   "cell_type": "code",
   "execution_count": 5,
   "id": "c90c6a4d-751f-458b-8eca-90c0594984ee",
   "metadata": {},
   "outputs": [],
   "source": [
    "import optuna"
   ]
  },
  {
   "cell_type": "code",
   "execution_count": 6,
   "id": "e5d33484-f408-41c7-8da1-fe876b040b39",
   "metadata": {},
   "outputs": [],
   "source": [
    "%matplotlib inline"
   ]
  },
  {
   "cell_type": "markdown",
   "id": "8672790b-5dfa-41b7-8861-ce6c476a47d5",
   "metadata": {},
   "source": [
    "#### get data"
   ]
  },
  {
   "cell_type": "code",
   "execution_count": 7,
   "id": "7be22992-aa32-4ad9-b41e-87184829190a",
   "metadata": {},
   "outputs": [],
   "source": [
    "fldr = \"./Temizlenmis data/\"\n",
    "def read_file(nn, fuel, ppb):\n",
    "    fn = fldr+f\"foms{nn}_{fuel}_{ppb}ppb.xlsx\"\n",
    "    return pd.read_excel(fn)\n"
   ]
  },
  {
   "cell_type": "code",
   "execution_count": 8,
   "id": "8a4e4698-702e-4611-a27e-eda05beaed5c",
   "metadata": {},
   "outputs": [],
   "source": [
    "sensor = [11, 17, 35]\n",
    "fuel = [\"Benzin\", \"motorin\"]\n",
    "ppb = [0,300]\n",
    "\n",
    "dfs = {}\n",
    "\n",
    "for s in sensor:\n",
    "    for f in fuel:\n",
    "        for p in ppb:\n",
    "            df = read_file(s,f, p)\n",
    "            df[\"label\"] = p/3\n",
    "            dfs[(s,f,p)]=df"
   ]
  },
  {
   "cell_type": "code",
   "execution_count": null,
   "id": "892286ca-3937-4ca1-9b92-ebda5d8a7275",
   "metadata": {},
   "outputs": [],
   "source": []
  },
  {
   "cell_type": "markdown",
   "id": "1f46dda5-c2ad-47f2-8ae4-abd8113e6ebb",
   "metadata": {},
   "source": [
    "#### get eval"
   ]
  },
  {
   "cell_type": "code",
   "execution_count": 12,
   "id": "e1f8fd7e-e6dc-4dd5-850c-86cd81e467c8",
   "metadata": {},
   "outputs": [],
   "source": [
    "fldr = \"./Temizlenmis data/\"\n",
    "def read_file_eval(nn, fuel):\n",
    "    fn = fldr+f\"foms{nn}_{fuel}_testdata.xlsx\"\n",
    "    return pd.read_excel(fn)"
   ]
  },
  {
   "cell_type": "code",
   "execution_count": 13,
   "id": "d640af92-538f-444e-b259-2cd51fa49a0a",
   "metadata": {},
   "outputs": [],
   "source": [
    "df_evals = {}\n",
    "for s in sensor:\n",
    "    for f in fuel:\n",
    "        df = read_file_eval(s,f)\n",
    "        df_evals[(s,f)]=df\n",
    "        # print(df.columns)\n",
    "        # print()"
   ]
  },
  {
   "cell_type": "code",
   "execution_count": null,
   "id": "0c63d388-2a73-4368-9bcd-bce9f69ed30f",
   "metadata": {},
   "outputs": [],
   "source": []
  },
  {
   "cell_type": "code",
   "execution_count": 14,
   "id": "ef8fefb1-4732-49ad-8c64-a7e5512b5911",
   "metadata": {},
   "outputs": [],
   "source": [
    "from sklearn.model_selection import KFold"
   ]
  },
  {
   "cell_type": "code",
   "execution_count": null,
   "id": "357e50a2-cd37-4754-9f3b-ea207e3f938a",
   "metadata": {},
   "outputs": [],
   "source": []
  },
  {
   "cell_type": "code",
   "execution_count": 12,
   "id": "2ca1ef36-26a1-49ef-b08f-b98f9ff1774e",
   "metadata": {
    "scrolled": true,
    "tags": []
   },
   "outputs": [
    {
     "name": "stderr",
     "output_type": "stream",
     "text": [
      "[I 2023-06-07 07:20:48,725] A new study created in memory with name: no-name-bc2374c8-df62-491b-b6ae-e8c2f0e6f00d\n",
      "[I 2023-06-07 07:20:48,787] Trial 0 finished with value: 1.0 and parameters: {'regressor': 'ElasticNet', 'alpha': 0.759957793948489}. Best is trial 0 with value: 1.0.\n",
      "[I 2023-06-07 07:20:48,823] Trial 1 finished with value: 1.0 and parameters: {'regressor': 'ElasticNet', 'alpha': 0.6676890601969279}. Best is trial 0 with value: 1.0.\n",
      "[I 2023-06-07 07:20:48,858] Trial 2 finished with value: 1.0 and parameters: {'regressor': 'ElasticNet', 'alpha': 1.2501849841106814}. Best is trial 0 with value: 1.0.\n",
      "[I 2023-06-07 07:20:48,897] Trial 3 finished with value: 1.0 and parameters: {'regressor': 'ElasticNet', 'alpha': 1.2238471161526594}. Best is trial 0 with value: 1.0.\n"
     ]
    },
    {
     "name": "stdout",
     "output_type": "stream",
     "text": [
      "11 Benzin\n"
     ]
    },
    {
     "name": "stderr",
     "output_type": "stream",
     "text": [
      "[I 2023-06-07 07:20:48,947] Trial 4 finished with value: 1.0 and parameters: {'regressor': 'ElasticNet', 'alpha': 0.819360607131362}. Best is trial 0 with value: 1.0.\n",
      "[I 2023-06-07 07:20:48,982] Trial 5 finished with value: 1.0 and parameters: {'regressor': 'ElasticNet', 'alpha': 1.013871498423835}. Best is trial 0 with value: 1.0.\n",
      "[I 2023-06-07 07:20:49,016] Trial 6 finished with value: 1.0 and parameters: {'regressor': 'ElasticNet', 'alpha': 1.6361117692043667}. Best is trial 0 with value: 1.0.\n",
      "[I 2023-06-07 07:20:49,054] Trial 7 finished with value: 1.0 and parameters: {'regressor': 'ElasticNet', 'alpha': 1.0634150804409335}. Best is trial 0 with value: 1.0.\n",
      "[I 2023-06-07 07:20:49,091] Trial 8 finished with value: 1.0 and parameters: {'regressor': 'ElasticNet', 'alpha': 1.9818378620369206}. Best is trial 0 with value: 1.0.\n",
      "[I 2023-06-07 07:20:49,124] Trial 9 finished with value: 1.0 and parameters: {'regressor': 'ElasticNet', 'alpha': 1.3927136861280456}. Best is trial 0 with value: 1.0.\n",
      "[I 2023-06-07 07:20:49,131] A new study created in memory with name: no-name-1c012bad-2dd0-4b9c-9d66-07ad8340fef3\n",
      "[I 2023-06-07 07:20:49,167] Trial 0 finished with value: 1.0 and parameters: {'regressor': 'ElasticNet', 'alpha': 1.2289274205082639}. Best is trial 0 with value: 1.0.\n",
      "[I 2023-06-07 07:20:49,202] Trial 1 finished with value: 1.0 and parameters: {'regressor': 'ElasticNet', 'alpha': 1.2319143373331156}. Best is trial 0 with value: 1.0.\n",
      "[I 2023-06-07 07:20:49,236] Trial 2 finished with value: 1.0 and parameters: {'regressor': 'ElasticNet', 'alpha': 1.8176770024992757}. Best is trial 0 with value: 1.0.\n",
      "[I 2023-06-07 07:20:49,265] Trial 3 finished with value: 1.0 and parameters: {'regressor': 'ElasticNet', 'alpha': 0.8733060586596058}. Best is trial 0 with value: 1.0.\n",
      "[I 2023-06-07 07:20:49,305] Trial 4 finished with value: 1.0 and parameters: {'regressor': 'ElasticNet', 'alpha': 1.5621472427862968}. Best is trial 0 with value: 1.0.\n"
     ]
    },
    {
     "name": "stdout",
     "output_type": "stream",
     "text": [
      "11 motorin\n"
     ]
    },
    {
     "name": "stderr",
     "output_type": "stream",
     "text": [
      "[I 2023-06-07 07:20:49,334] Trial 5 finished with value: 1.0 and parameters: {'regressor': 'ElasticNet', 'alpha': 0.7780826820491298}. Best is trial 0 with value: 1.0.\n",
      "[I 2023-06-07 07:20:49,366] Trial 6 finished with value: 1.0 and parameters: {'regressor': 'ElasticNet', 'alpha': 0.817606701253588}. Best is trial 0 with value: 1.0.\n",
      "[I 2023-06-07 07:20:49,409] Trial 7 finished with value: 1.0 and parameters: {'regressor': 'ElasticNet', 'alpha': 1.6313694316311693}. Best is trial 0 with value: 1.0.\n",
      "[I 2023-06-07 07:20:49,437] Trial 8 finished with value: 1.0 and parameters: {'regressor': 'ElasticNet', 'alpha': 0.591572942746247}. Best is trial 0 with value: 1.0.\n",
      "[I 2023-06-07 07:20:49,471] Trial 9 finished with value: 1.0 and parameters: {'regressor': 'ElasticNet', 'alpha': 1.455478585627511}. Best is trial 0 with value: 1.0.\n",
      "[I 2023-06-07 07:20:49,476] A new study created in memory with name: no-name-8d7f2d69-5e95-4474-bba6-90480090854d\n",
      "[I 2023-06-07 07:20:49,518] Trial 0 finished with value: 1.0 and parameters: {'regressor': 'ElasticNet', 'alpha': 1.162196639771191}. Best is trial 0 with value: 1.0.\n",
      "[I 2023-06-07 07:20:49,549] Trial 1 finished with value: 1.0 and parameters: {'regressor': 'ElasticNet', 'alpha': 1.7925866260783065}. Best is trial 0 with value: 1.0.\n",
      "[I 2023-06-07 07:20:49,589] Trial 2 finished with value: 1.0 and parameters: {'regressor': 'ElasticNet', 'alpha': 1.247553717473776}. Best is trial 0 with value: 1.0.\n",
      "[I 2023-06-07 07:20:49,639] Trial 3 finished with value: 1.0 and parameters: {'regressor': 'ElasticNet', 'alpha': 1.0882373836958226}. Best is trial 0 with value: 1.0.\n",
      "[I 2023-06-07 07:20:49,671] Trial 4 finished with value: 1.0 and parameters: {'regressor': 'ElasticNet', 'alpha': 0.5039798936319131}. Best is trial 0 with value: 1.0.\n"
     ]
    },
    {
     "name": "stdout",
     "output_type": "stream",
     "text": [
      "17 Benzin\n"
     ]
    },
    {
     "name": "stderr",
     "output_type": "stream",
     "text": [
      "[I 2023-06-07 07:20:49,709] Trial 5 finished with value: 1.0 and parameters: {'regressor': 'ElasticNet', 'alpha': 0.6936057634136985}. Best is trial 0 with value: 1.0.\n",
      "[I 2023-06-07 07:20:49,746] Trial 6 finished with value: 1.0 and parameters: {'regressor': 'ElasticNet', 'alpha': 0.6762574849440358}. Best is trial 0 with value: 1.0.\n",
      "[I 2023-06-07 07:20:49,776] Trial 7 finished with value: 1.0 and parameters: {'regressor': 'ElasticNet', 'alpha': 1.7118256834886592}. Best is trial 0 with value: 1.0.\n",
      "[I 2023-06-07 07:20:49,816] Trial 8 finished with value: 1.0 and parameters: {'regressor': 'ElasticNet', 'alpha': 1.2835470801612647}. Best is trial 0 with value: 1.0.\n",
      "[I 2023-06-07 07:20:49,853] Trial 9 finished with value: 1.0 and parameters: {'regressor': 'ElasticNet', 'alpha': 0.9144821819936719}. Best is trial 0 with value: 1.0.\n",
      "[I 2023-06-07 07:20:49,858] A new study created in memory with name: no-name-69e29f66-c320-461e-8aae-296d5c7e710c\n",
      "[I 2023-06-07 07:20:49,889] Trial 0 finished with value: 1.0 and parameters: {'regressor': 'ElasticNet', 'alpha': 1.7759517653035872}. Best is trial 0 with value: 1.0.\n",
      "[I 2023-06-07 07:20:49,920] Trial 1 finished with value: 1.0 and parameters: {'regressor': 'ElasticNet', 'alpha': 0.6684494436537902}. Best is trial 0 with value: 1.0.\n",
      "[I 2023-06-07 07:20:49,947] Trial 2 finished with value: 1.0 and parameters: {'regressor': 'ElasticNet', 'alpha': 1.3906874571834218}. Best is trial 0 with value: 1.0.\n",
      "[I 2023-06-07 07:20:49,973] Trial 3 finished with value: 1.0 and parameters: {'regressor': 'ElasticNet', 'alpha': 1.633194017611884}. Best is trial 0 with value: 1.0.\n",
      "[I 2023-06-07 07:20:50,000] Trial 4 finished with value: 1.0 and parameters: {'regressor': 'ElasticNet', 'alpha': 0.7448108557603134}. Best is trial 0 with value: 1.0.\n",
      "[I 2023-06-07 07:20:50,029] Trial 5 finished with value: 1.0 and parameters: {'regressor': 'ElasticNet', 'alpha': 1.33029808130643}. Best is trial 0 with value: 1.0.\n"
     ]
    },
    {
     "name": "stdout",
     "output_type": "stream",
     "text": [
      "17 motorin\n"
     ]
    },
    {
     "name": "stderr",
     "output_type": "stream",
     "text": [
      "[I 2023-06-07 07:20:50,062] Trial 6 finished with value: 1.0 and parameters: {'regressor': 'ElasticNet', 'alpha': 1.2084814146215235}. Best is trial 0 with value: 1.0.\n",
      "[I 2023-06-07 07:20:50,099] Trial 7 finished with value: 1.0 and parameters: {'regressor': 'ElasticNet', 'alpha': 0.5452544356488096}. Best is trial 0 with value: 1.0.\n",
      "[I 2023-06-07 07:20:50,132] Trial 8 finished with value: 1.0 and parameters: {'regressor': 'ElasticNet', 'alpha': 1.6100028104851736}. Best is trial 0 with value: 1.0.\n",
      "[I 2023-06-07 07:20:50,167] Trial 9 finished with value: 1.0 and parameters: {'regressor': 'ElasticNet', 'alpha': 1.8537403917704647}. Best is trial 0 with value: 1.0.\n",
      "[I 2023-06-07 07:20:50,173] A new study created in memory with name: no-name-bfb552b0-c5a8-4a78-af2e-c4a39ab879a2\n",
      "[I 2023-06-07 07:20:50,204] Trial 0 finished with value: 1.0 and parameters: {'regressor': 'ElasticNet', 'alpha': 1.6027022775312525}. Best is trial 0 with value: 1.0.\n",
      "[I 2023-06-07 07:20:50,236] Trial 1 finished with value: 1.0 and parameters: {'regressor': 'ElasticNet', 'alpha': 1.0835907719402664}. Best is trial 0 with value: 1.0.\n",
      "[I 2023-06-07 07:20:50,266] Trial 2 finished with value: 1.0 and parameters: {'regressor': 'ElasticNet', 'alpha': 1.8252550183219327}. Best is trial 0 with value: 1.0.\n",
      "[I 2023-06-07 07:20:50,298] Trial 3 finished with value: 1.0 and parameters: {'regressor': 'ElasticNet', 'alpha': 1.0900736947830327}. Best is trial 0 with value: 1.0.\n",
      "[I 2023-06-07 07:20:50,325] Trial 4 finished with value: 1.0 and parameters: {'regressor': 'ElasticNet', 'alpha': 1.4561366507871105}. Best is trial 0 with value: 1.0.\n",
      "[I 2023-06-07 07:20:50,353] Trial 5 finished with value: 1.0 and parameters: {'regressor': 'ElasticNet', 'alpha': 1.8054346636900063}. Best is trial 0 with value: 1.0.\n"
     ]
    },
    {
     "name": "stdout",
     "output_type": "stream",
     "text": [
      "35 Benzin\n"
     ]
    },
    {
     "name": "stderr",
     "output_type": "stream",
     "text": [
      "[I 2023-06-07 07:20:50,386] Trial 6 finished with value: 1.0 and parameters: {'regressor': 'ElasticNet', 'alpha': 0.8655278701340916}. Best is trial 0 with value: 1.0.\n",
      "[I 2023-06-07 07:20:50,414] Trial 7 finished with value: 1.0 and parameters: {'regressor': 'ElasticNet', 'alpha': 1.4807127774002204}. Best is trial 0 with value: 1.0.\n",
      "[I 2023-06-07 07:20:50,448] Trial 8 finished with value: 1.0 and parameters: {'regressor': 'ElasticNet', 'alpha': 1.7540430967578362}. Best is trial 0 with value: 1.0.\n",
      "[I 2023-06-07 07:20:50,485] Trial 9 finished with value: 1.0 and parameters: {'regressor': 'ElasticNet', 'alpha': 0.836610248697859}. Best is trial 0 with value: 1.0.\n",
      "[I 2023-06-07 07:20:50,491] A new study created in memory with name: no-name-7e79d9f0-8cb4-4b8d-8018-74180e91fd2d\n",
      "[I 2023-06-07 07:20:50,527] Trial 0 finished with value: 1.0 and parameters: {'regressor': 'ElasticNet', 'alpha': 0.9779629722946237}. Best is trial 0 with value: 1.0.\n",
      "[I 2023-06-07 07:20:50,567] Trial 1 finished with value: 1.0 and parameters: {'regressor': 'ElasticNet', 'alpha': 0.960260422502311}. Best is trial 0 with value: 1.0.\n",
      "[I 2023-06-07 07:20:50,603] Trial 2 finished with value: 1.0 and parameters: {'regressor': 'ElasticNet', 'alpha': 0.8060827439003673}. Best is trial 0 with value: 1.0.\n",
      "[I 2023-06-07 07:20:50,639] Trial 3 finished with value: 1.0 and parameters: {'regressor': 'ElasticNet', 'alpha': 1.020218480525913}. Best is trial 0 with value: 1.0.\n",
      "[I 2023-06-07 07:20:50,678] Trial 4 finished with value: 1.0 and parameters: {'regressor': 'ElasticNet', 'alpha': 0.6416824696708574}. Best is trial 0 with value: 1.0.\n"
     ]
    },
    {
     "name": "stdout",
     "output_type": "stream",
     "text": [
      "35 motorin\n"
     ]
    },
    {
     "name": "stderr",
     "output_type": "stream",
     "text": [
      "[I 2023-06-07 07:20:50,729] Trial 5 finished with value: 1.0 and parameters: {'regressor': 'ElasticNet', 'alpha': 0.6443913244105789}. Best is trial 0 with value: 1.0.\n",
      "[I 2023-06-07 07:20:50,783] Trial 6 finished with value: 1.0 and parameters: {'regressor': 'ElasticNet', 'alpha': 0.826176894876852}. Best is trial 0 with value: 1.0.\n",
      "[I 2023-06-07 07:20:50,816] Trial 7 finished with value: 1.0 and parameters: {'regressor': 'ElasticNet', 'alpha': 1.688097690736226}. Best is trial 0 with value: 1.0.\n",
      "[I 2023-06-07 07:20:50,847] Trial 8 finished with value: 1.0 and parameters: {'regressor': 'ElasticNet', 'alpha': 1.8149996890001003}. Best is trial 0 with value: 1.0.\n",
      "[I 2023-06-07 07:20:50,889] Trial 9 finished with value: 1.0 and parameters: {'regressor': 'ElasticNet', 'alpha': 0.5381693917265773}. Best is trial 0 with value: 1.0.\n"
     ]
    }
   ],
   "source": [
    "best_params = {}\n",
    "for s in sensor:\n",
    "    for f in fuel:\n",
    "        print(s,f)\n",
    "        df1 = dfs[(s,f,0)][['CH1', 'CH2', 'CH3', 'CH4', 'label']]\n",
    "        df2 = dfs[(s,f,300)][['CH1', 'CH2', 'CH3', 'CH4', 'label']]\n",
    "        df0 = pd.concat([df1,df2], ignore_index=True)\n",
    "        \n",
    "        X_train = df0[['CH1', 'CH2', 'CH3', 'CH4']]\n",
    "        y_train = df0['label']\n",
    "\n",
    "        kf = KFold(n_splits=3, random_state=2**10, shuffle=True)\n",
    "        ksplits = list(kf.split(X_train))\n",
    "\n",
    "        def objective(trial):\n",
    "\n",
    "            # Invoke suggest methods of a Trial object to generate hyperparameters.\n",
    "            regressor_name = trial.suggest_categorical('regressor', ['ElasticNet'])\n",
    "\n",
    "            #alpha = trial.suggest_float('alpha', 1e-3, 1e2, log=True)\n",
    "            alpha = trial.suggest_float('alpha', 0.5, 2, log=False)\n",
    "            #l1_ratio = trial.suggest_float('l1_ratio', 1e-3, 1e0, log=True)\n",
    "\n",
    "            acc =[]\n",
    "            for itrain, itest in ksplits:\n",
    "                xtrain, ytrain = X_train.iloc[itrain], y_train.iloc[itrain]\n",
    "                xtest, ytest = X_train.iloc[itest], y_train.iloc[itest]\n",
    "\n",
    "                model1 = Pipeline(steps=[\n",
    "                    ('scaler', StandardScaler()),\n",
    "                    ('preprocessor', PolynomialFeatures(degree=2, include_bias=False)),\n",
    "                    #('estimator', ElasticNet(alpha=alpha, l1_ratio=l1_ratio))\n",
    "                    ('estimator', Lasso(alpha=alpha,max_iter=10000, fit_intercept=True))\n",
    "                ])\n",
    "                model1.fit(xtrain, ytrain)\n",
    "                y_pred = model1.predict(xtest)\n",
    "                acc.append((np.abs(y_pred-ytest)<=100.).mean() )\n",
    "\n",
    "            return np.mean(acc)\n",
    "\n",
    "        study = optuna.create_study(direction='maximize')  # Create a new study\n",
    "        study.optimize(objective, n_trials=10)  # Invoke optimization of the objective function.\n",
    "    \n",
    "        best_params[(s,f)] = study.best_params"
   ]
  },
  {
   "cell_type": "code",
   "execution_count": null,
   "id": "1bd01f01-714f-4fda-9852-85b77927d9e6",
   "metadata": {},
   "outputs": [],
   "source": []
  },
  {
   "cell_type": "code",
   "execution_count": 13,
   "id": "6364d7c5-f572-449c-b3bf-da0df66f1a60",
   "metadata": {},
   "outputs": [],
   "source": [
    "models_poly = {}\n",
    "for s in sensor:\n",
    "    for f in fuel:\n",
    "        df1 = dfs[(s,f,0)][['CH1', 'CH2', 'CH3', 'CH4', 'label']]\n",
    "        df2 = dfs[(s,f,300)][['CH1', 'CH2', 'CH3', 'CH4', 'label']]\n",
    "        df0 = pd.concat([df1,df2], ignore_index=True)\n",
    "        \n",
    "        X_train = df0[['CH1', 'CH2', 'CH3', 'CH4']]\n",
    "        y_train = df0['label']\n",
    "        \n",
    "        bp = best_params[s,f]\n",
    "        model1 = Pipeline(steps=[\n",
    "            ('scaler', StandardScaler()),\n",
    "            ('preprocessor', PolynomialFeatures(degree=2, include_bias=False)),\n",
    "            #('estimator', ElasticNet(alpha=bp['alpha'], l1_ratio=bp['l1_ratio']))\n",
    "            #('estimator', Lasso(alpha=bp['alpha'],max_iter=10000, fit_intercept=True))\n",
    "            ('estimator', Lasso(alpha=1,max_iter=10000, fit_intercept=True))\n",
    "        ])\n",
    "        \n",
    "        model1.fit(X_train, y_train)\n",
    "        models_poly[(s,f)] = model1"
   ]
  },
  {
   "cell_type": "code",
   "execution_count": 14,
   "id": "20db0080-53a2-4c01-924d-f92085d8cd40",
   "metadata": {},
   "outputs": [],
   "source": [
    "rmse = {}\n",
    "accuracy10 = {}\n",
    "for s in sensor:\n",
    "    for f in fuel:\n",
    "        df0 = df_evals[(s,f)].copy()\n",
    "        df0['pred'] = models_poly[(s,f)].predict(df0[['CH1', 'CH2', 'CH3', 'CH4']])\n",
    "        df0['accuracy@10'] = np.abs(100 - df0['pred'])<10\n",
    "        df0['error'] = (100 - df0['pred'])**2\n",
    "        #\n",
    "        accuracy10[(s,f)] = df0['accuracy@10'].mean()\n",
    "        rmse[(s,f)] = df0['error'].mean()"
   ]
  },
  {
   "cell_type": "code",
   "execution_count": 15,
   "id": "f5201161-1b64-45cc-bfed-cb385cff27e7",
   "metadata": {},
   "outputs": [
    {
     "name": "stdout",
     "output_type": "stream",
     "text": [
      "\t \t accuracy \t rmse\n",
      "11\tBenzin\t0.756\t\t118.119\n",
      "11\tmotorin\t0.962\t\t57.701\n",
      "17\tBenzin\t0.972\t\t64.612\n",
      "17\tmotorin\t0.954\t\t101.401\n",
      "35\tBenzin\t0.555\t\t323.966\n",
      "35\tmotorin\t0.953\t\t133.062\n",
      "-------------\n",
      "Average: \t0.859\t\t133.143\n"
     ]
    }
   ],
   "source": [
    "print('\\t \\t accuracy \\t rmse')\n",
    "for s in sensor:\n",
    "    for f in fuel:\n",
    "            print(\"{}\\t{}\\t{:0.3f}\\t\\t{:0.3f}\".format(s,f, accuracy10[(s,f)], rmse[(s,f) ]))\n",
    "print('-------------')\n",
    "print('Average: \\t{:0.3f}\\t\\t{:0.3f}'.format(\n",
    "        np.mean(list(accuracy10.values())),\n",
    "        np.mean(list(rmse.values())),\n",
    "))"
   ]
  },
  {
   "cell_type": "code",
   "execution_count": null,
   "id": "046484d0-2070-415d-bd9d-3c798348fbe4",
   "metadata": {},
   "outputs": [],
   "source": []
  },
  {
   "cell_type": "code",
   "execution_count": 16,
   "id": "e5e2bc68-4c76-41be-92e0-b5154f463808",
   "metadata": {},
   "outputs": [
    {
     "data": {
      "text/plain": [
       "{(11, 'Benzin'): {'regressor': 'ElasticNet', 'alpha': 0.759957793948489},\n",
       " (11, 'motorin'): {'regressor': 'ElasticNet', 'alpha': 1.2289274205082639},\n",
       " (17, 'Benzin'): {'regressor': 'ElasticNet', 'alpha': 1.162196639771191},\n",
       " (17, 'motorin'): {'regressor': 'ElasticNet', 'alpha': 1.7759517653035872},\n",
       " (35, 'Benzin'): {'regressor': 'ElasticNet', 'alpha': 1.6027022775312525},\n",
       " (35, 'motorin'): {'regressor': 'ElasticNet', 'alpha': 0.9779629722946237}}"
      ]
     },
     "execution_count": 16,
     "metadata": {},
     "output_type": "execute_result"
    }
   ],
   "source": [
    "best_params"
   ]
  },
  {
   "cell_type": "code",
   "execution_count": null,
   "id": "4127d914-7a61-4621-990b-3be7eb8ddac3",
   "metadata": {},
   "outputs": [],
   "source": []
  },
  {
   "cell_type": "markdown",
   "id": "252d2e39-0dcd-4946-8451-f538efbfc621",
   "metadata": {},
   "source": [
    "#### get params"
   ]
  },
  {
   "cell_type": "code",
   "execution_count": 17,
   "id": "22b739b7-1ebd-4a95-99dd-77d0c3721e6c",
   "metadata": {},
   "outputs": [],
   "source": [
    "params = {}\n",
    "\n",
    "for s in sensor:\n",
    "    for f in fuel:\n",
    "        pipe = models_poly[(s,f)]\n",
    "        params2={}\n",
    "        params2['scale'] = pipe.steps[0][1].scale_\n",
    "        params2['mean'] = pipe.steps[0][1].mean_\n",
    "        params2['poly'] = pipe.steps[2][1].coef_\n",
    "        params2['intercept'] = pipe.steps[2][1].intercept_\n",
    "        \n",
    "        params[(s,f)] = params2"
   ]
  },
  {
   "cell_type": "code",
   "execution_count": null,
   "id": "440291ad-2007-41de-b986-be6821f0809b",
   "metadata": {},
   "outputs": [],
   "source": []
  },
  {
   "cell_type": "code",
   "execution_count": 24,
   "id": "428bcde3-50a1-4096-a7c9-0bc98777a43e",
   "metadata": {},
   "outputs": [],
   "source": [
    "rmse = {}\n",
    "accuracy10 = {}\n",
    "for s in sensor:\n",
    "    for f in fuel:\n",
    "        df0 = df_evals[(s,f)].copy()\n",
    "        \n",
    "        x = df0[['CH1', 'CH2', 'CH3', 'CH4']].copy()\n",
    "        \n",
    "        params0 = params[(s,f)]\n",
    "        # scale\n",
    "        x['CH1'] = (x['CH1'] - params0['mean'][0])/params0['scale'][0]\n",
    "        x['CH2'] = (x['CH2'] - params0['mean'][1])/params0['scale'][1]\n",
    "        x['CH3'] = (x['CH3'] - params0['mean'][2])/params0['scale'][2]\n",
    "        x['CH4'] = (x['CH4'] - params0['mean'][3])/params0['scale'][3]\n",
    "        \n",
    "        # polynomial\n",
    "        pp=params0['poly']\n",
    "        pred=[]\n",
    "        for i,r in x.iterrows():\n",
    "            result = params0['intercept']\n",
    "\n",
    "            result += pp[0]*r['CH1']\n",
    "            result += pp[1]*r['CH2']\n",
    "            result += pp[2]*r['CH3']\n",
    "            result += pp[3]*r['CH4']\n",
    "\n",
    "            result += pp[4]*r['CH1']*r['CH1']\n",
    "            result += pp[5]*r['CH1']*r['CH2']\n",
    "            result += pp[6]*r['CH1']*r['CH3']\n",
    "            result += pp[7]*r['CH1']*r['CH4']\n",
    "\n",
    "            result += pp[8]*r['CH2']*r['CH2']\n",
    "            result += pp[9]*r['CH2']*r['CH3']\n",
    "            result += pp[10]*r['CH2']*r['CH4']\n",
    "\n",
    "            result += pp[11]*r['CH3']*r['CH3']\n",
    "            result += pp[12]*r['CH3']*r['CH4']\n",
    "\n",
    "            result += pp[13]*r['CH4']*r['CH4']\n",
    "            pred.append(result)        \n",
    "        \n",
    "        df0['pred'] = pred\n",
    "        df0['accuracy@10'] = np.abs(100 - df0['pred'])<10\n",
    "        df0['error'] = (100 - df0['pred'])**2\n",
    "        # #\n",
    "        accuracy10[(s,f)] = df0['accuracy@10'].mean()\n",
    "        rmse[(s,f)] = df0['error'].mean()"
   ]
  },
  {
   "cell_type": "code",
   "execution_count": 25,
   "id": "354d1304-2dab-4500-a764-3e18b00254d7",
   "metadata": {},
   "outputs": [
    {
     "name": "stdout",
     "output_type": "stream",
     "text": [
      "\t \t accuracy \t rmse\n",
      "11\tBenzin\t0.756\t\t118.119\n",
      "11\tmotorin\t0.962\t\t57.701\n",
      "17\tBenzin\t0.972\t\t64.612\n",
      "17\tmotorin\t0.954\t\t101.401\n",
      "35\tBenzin\t0.555\t\t323.966\n",
      "35\tmotorin\t0.953\t\t133.062\n",
      "-------------\n",
      "Average: \t0.859\t\t133.143\n"
     ]
    }
   ],
   "source": [
    "print('\\t \\t accuracy \\t rmse')\n",
    "for s in sensor:\n",
    "    for f in fuel:\n",
    "            print(\"{}\\t{}\\t{:0.3f}\\t\\t{:0.3f}\".format(s,f, accuracy10[(s,f)], rmse[(s,f) ]))\n",
    "print('-------------')\n",
    "print('Average: \\t{:0.3f}\\t\\t{:0.3f}'.format(\n",
    "        np.mean(list(accuracy10.values())),\n",
    "        np.mean(list(rmse.values())),\n",
    "))"
   ]
  },
  {
   "cell_type": "code",
   "execution_count": 136,
   "id": "5b78bb45-037b-4298-bdcd-4aca9a3c04aa",
   "metadata": {},
   "outputs": [],
   "source": []
  },
  {
   "cell_type": "code",
   "execution_count": null,
   "id": "cca82c00-cb67-4f13-b527-98e649ab5f1c",
   "metadata": {},
   "outputs": [],
   "source": []
  },
  {
   "cell_type": "code",
   "execution_count": 139,
   "id": "b00bb39d-267d-4d89-ace3-c917a0723400",
   "metadata": {},
   "outputs": [],
   "source": []
  },
  {
   "cell_type": "code",
   "execution_count": null,
   "id": "ef70e8f9-eead-4ce2-900a-a718faac7e22",
   "metadata": {
    "scrolled": true,
    "tags": []
   },
   "outputs": [],
   "source": []
  },
  {
   "cell_type": "code",
   "execution_count": null,
   "id": "edc0d3d8-3893-4082-8f67-845f54612e15",
   "metadata": {},
   "outputs": [],
   "source": []
  },
  {
   "cell_type": "code",
   "execution_count": null,
   "id": "bf9a62ae-4797-4844-a88a-dde330857b9e",
   "metadata": {},
   "outputs": [],
   "source": []
  },
  {
   "cell_type": "code",
   "execution_count": null,
   "id": "a29a7385-62bb-4893-9313-1df9f53a12c9",
   "metadata": {},
   "outputs": [],
   "source": []
  },
  {
   "cell_type": "code",
   "execution_count": null,
   "id": "f7f3d9f0-ec5c-4780-9974-2fb5086e3bc1",
   "metadata": {},
   "outputs": [],
   "source": []
  },
  {
   "cell_type": "code",
   "execution_count": null,
   "id": "835aa05a-7a6e-41e1-9e89-4551d07666f1",
   "metadata": {},
   "outputs": [],
   "source": []
  },
  {
   "cell_type": "code",
   "execution_count": null,
   "id": "add1c516-43ec-4d2a-825c-b3f3e943b0a7",
   "metadata": {},
   "outputs": [],
   "source": []
  }
 ],
 "metadata": {
  "kernelspec": {
   "display_name": "Python 3 (ipykernel)",
   "language": "python",
   "name": "python3"
  },
  "language_info": {
   "codemirror_mode": {
    "name": "ipython",
    "version": 3
   },
   "file_extension": ".py",
   "mimetype": "text/x-python",
   "name": "python",
   "nbconvert_exporter": "python",
   "pygments_lexer": "ipython3",
   "version": "3.11.3"
  }
 },
 "nbformat": 4,
 "nbformat_minor": 5
}
